{
 "cells": [
  {
   "cell_type": "markdown",
   "id": "a282e3e6-4163-44de-b520-d7c0fef56554",
   "metadata": {},
   "source": [
    "## Earthquake analysis\n",
    "Earthquake is a natural phenomenon whose occurrence predictability is always a hot topic.\n",
    "In this project, we will analyze and visualize earthquake data from Greece from year 1965 until 2023 using libraries, statistical calculations and graphs."
   ]
  },
  {
   "cell_type": "code",
   "execution_count": 26,
   "id": "bb6b8c6c-57ad-49c4-9040-bfaf17eb32cf",
   "metadata": {},
   "outputs": [],
   "source": [
    "# import libraries\n",
    "import pandas as pd\n",
    "from sklearn.preprocessing import MinMaxScaler\n",
    "from sklearn.model_selection import train_test_split, GridSearchCV\n",
    "from sklearn.metrics import accuracy_score\n",
    "from sklearn.neighbors import KNeighborsClassifier\n",
    "\n",
    "import seaborn as sns\n",
    "import matplotlib.pyplot as plt\n",
    "%matplotlib inline\n",
    "\n",
    "import warnings\n",
    "warnings.filterwarnings('ignore')"
   ]
  },
  {
   "cell_type": "code",
   "execution_count": 2,
   "id": "e4860220-56e2-4327-89eb-1dfea5b4cd35",
   "metadata": {},
   "outputs": [],
   "source": [
    "#load dataset\n",
    "df = pd.read_csv(\"Earthquakes_v3.csv\")"
   ]
  },
  {
   "cell_type": "markdown",
   "id": "e6b96bbc-5ed6-4a8c-bdda-9c939ccdbb13",
   "metadata": {},
   "source": [
    "## Data Analysis & Cleaning"
   ]
  },
  {
   "cell_type": "code",
   "execution_count": 20,
   "id": "6c0f6ade-fa5a-4749-815f-e39385f66433",
   "metadata": {},
   "outputs": [
    {
     "data": {
      "text/html": [
       "<div>\n",
       "<style scoped>\n",
       "    .dataframe tbody tr th:only-of-type {\n",
       "        vertical-align: middle;\n",
       "    }\n",
       "\n",
       "    .dataframe tbody tr th {\n",
       "        vertical-align: top;\n",
       "    }\n",
       "\n",
       "    .dataframe thead th {\n",
       "        text-align: right;\n",
       "    }\n",
       "</style>\n",
       "<table border=\"1\" class=\"dataframe\">\n",
       "  <thead>\n",
       "    <tr style=\"text-align: right;\">\n",
       "      <th></th>\n",
       "      <th>DATETIME</th>\n",
       "      <th>LAT</th>\n",
       "      <th>LONG</th>\n",
       "      <th>DEPTH</th>\n",
       "      <th>MAGNITUDE</th>\n",
       "    </tr>\n",
       "  </thead>\n",
       "  <tbody>\n",
       "    <tr>\n",
       "      <th>0</th>\n",
       "      <td>1/7/1965 10:22</td>\n",
       "      <td>36.50</td>\n",
       "      <td>26.50</td>\n",
       "      <td>10</td>\n",
       "      <td>5.3</td>\n",
       "    </tr>\n",
       "    <tr>\n",
       "      <th>1</th>\n",
       "      <td>1/10/1965 8:02</td>\n",
       "      <td>39.25</td>\n",
       "      <td>22.25</td>\n",
       "      <td>10</td>\n",
       "      <td>4.9</td>\n",
       "    </tr>\n",
       "    <tr>\n",
       "      <th>2</th>\n",
       "      <td>1/12/1965 17:26</td>\n",
       "      <td>37.00</td>\n",
       "      <td>22.00</td>\n",
       "      <td>10</td>\n",
       "      <td>4.0</td>\n",
       "    </tr>\n",
       "    <tr>\n",
       "      <th>3</th>\n",
       "      <td>1/15/1965 14:56</td>\n",
       "      <td>36.75</td>\n",
       "      <td>21.75</td>\n",
       "      <td>10</td>\n",
       "      <td>4.5</td>\n",
       "    </tr>\n",
       "    <tr>\n",
       "      <th>4</th>\n",
       "      <td>3/9/1965 19:16</td>\n",
       "      <td>39.00</td>\n",
       "      <td>24.00</td>\n",
       "      <td>10</td>\n",
       "      <td>4.2</td>\n",
       "    </tr>\n",
       "    <tr>\n",
       "      <th>5</th>\n",
       "      <td>3/9/1965 20:14</td>\n",
       "      <td>39.00</td>\n",
       "      <td>24.00</td>\n",
       "      <td>10</td>\n",
       "      <td>4.4</td>\n",
       "    </tr>\n",
       "    <tr>\n",
       "      <th>6</th>\n",
       "      <td>3/10/1965 0:04</td>\n",
       "      <td>39.00</td>\n",
       "      <td>24.00</td>\n",
       "      <td>10</td>\n",
       "      <td>4.8</td>\n",
       "    </tr>\n",
       "    <tr>\n",
       "      <th>7</th>\n",
       "      <td>3/10/1965 21:50</td>\n",
       "      <td>39.00</td>\n",
       "      <td>24.00</td>\n",
       "      <td>10</td>\n",
       "      <td>4.8</td>\n",
       "    </tr>\n",
       "    <tr>\n",
       "      <th>8</th>\n",
       "      <td>3/31/1965 12:01</td>\n",
       "      <td>38.50</td>\n",
       "      <td>21.75</td>\n",
       "      <td>10</td>\n",
       "      <td>5.1</td>\n",
       "    </tr>\n",
       "    <tr>\n",
       "      <th>9</th>\n",
       "      <td>4/3/1965 5:19</td>\n",
       "      <td>38.11</td>\n",
       "      <td>23.70</td>\n",
       "      <td>10</td>\n",
       "      <td>4.6</td>\n",
       "    </tr>\n",
       "  </tbody>\n",
       "</table>\n",
       "</div>"
      ],
      "text/plain": [
       "          DATETIME    LAT   LONG  DEPTH  MAGNITUDE\n",
       "0   1/7/1965 10:22  36.50  26.50     10        5.3\n",
       "1   1/10/1965 8:02  39.25  22.25     10        4.9\n",
       "2  1/12/1965 17:26  37.00  22.00     10        4.0\n",
       "3  1/15/1965 14:56  36.75  21.75     10        4.5\n",
       "4   3/9/1965 19:16  39.00  24.00     10        4.2\n",
       "5   3/9/1965 20:14  39.00  24.00     10        4.4\n",
       "6   3/10/1965 0:04  39.00  24.00     10        4.8\n",
       "7  3/10/1965 21:50  39.00  24.00     10        4.8\n",
       "8  3/31/1965 12:01  38.50  21.75     10        5.1\n",
       "9    4/3/1965 5:19  38.11  23.70     10        4.6"
      ]
     },
     "execution_count": 20,
     "metadata": {},
     "output_type": "execute_result"
    }
   ],
   "source": [
    "# Display the first 10 rows of database\n",
    "df.head(10)"
   ]
  },
  {
   "cell_type": "code",
   "execution_count": 25,
   "id": "538cebed-abc4-452c-8e3d-04f1fd7e2bdc",
   "metadata": {},
   "outputs": [
    {
     "data": {
      "text/plain": [
       "<bound method DataFrame.info of                DATETIME      LAT     LONG  DEPTH  MAGNITUDE\n",
       "0        1/7/1965 10:22  36.5000  26.5000     10        5.3\n",
       "1        1/10/1965 8:02  39.2500  22.2500     10        4.9\n",
       "2       1/12/1965 17:26  37.0000  22.0000     10        4.0\n",
       "3       1/15/1965 14:56  36.7500  21.7500     10        4.5\n",
       "4        3/9/1965 19:16  39.0000  24.0000     10        4.2\n",
       "...                 ...      ...      ...    ...        ...\n",
       "285113  12/31/2023 9:11  38.2906  21.5401     24        1.3\n",
       "285114  12/31/2023 9:41  38.2915  22.4519     12        1.5\n",
       "285115  12/31/2023 1:53  38.4755  22.3659     13        1.4\n",
       "285116  12/31/2023 2:32  38.2741  23.3217      6        1.4\n",
       "285117  12/31/2023 3:37  35.4794  25.8517     26        1.8\n",
       "\n",
       "[285118 rows x 5 columns]>"
      ]
     },
     "execution_count": 25,
     "metadata": {},
     "output_type": "execute_result"
    }
   ],
   "source": [
    "df.info"
   ]
  },
  {
   "cell_type": "code",
   "execution_count": 4,
   "id": "dd268dcd-59ef-443b-94d4-4fbacaf52cc7",
   "metadata": {},
   "outputs": [
    {
     "data": {
      "text/plain": [
       "(285118, 5)"
      ]
     },
     "execution_count": 4,
     "metadata": {},
     "output_type": "execute_result"
    }
   ],
   "source": [
    "df.shape"
   ]
  },
  {
   "cell_type": "markdown",
   "id": "76151916-52fb-48af-bca6-9e92a3f1603b",
   "metadata": {},
   "source": [
    "*In this database there are 285118 rows and 5 columns.*"
   ]
  },
  {
   "cell_type": "code",
   "execution_count": 13,
   "id": "38740ef5-8d1b-4ff5-bd76-5fde3e8a5a61",
   "metadata": {},
   "outputs": [
    {
     "name": "stdout",
     "output_type": "stream",
     "text": [
      "DATETIME      object\n",
      "LAT          float64\n",
      "LONG         float64\n",
      "DEPTH          int64\n",
      "MAGNITUDE    float64\n",
      "dtype: object\n"
     ]
    },
    {
     "data": {
      "text/plain": [
       "float64    3\n",
       "object     1\n",
       "int64      1\n",
       "Name: count, dtype: int64"
      ]
     },
     "execution_count": 13,
     "metadata": {},
     "output_type": "execute_result"
    }
   ],
   "source": [
    "#Find the type of the data by column\n",
    "print(df.dtypes)\n",
    "df.dtypes.value_counts()"
   ]
  },
  {
   "cell_type": "markdown",
   "id": "e4809fa6-5415-43fa-bc99-f24420f265c8",
   "metadata": {},
   "source": [
    "*The database contains 285118 earthquakes that occurred in Greece.The first column ‘DATETIME’ indicates when the earthquake occurred. ‘LAT’ (Latitude) and ‘LONG’ (Longitude) tell us where the earthquake occurred. Finally, the earthquake is described by ‘DEPTH’ (km) and ‘MAGNITUDE’ (Richter Scale). The dataset contain both integers and float numbers.*"
   ]
  },
  {
   "cell_type": "code",
   "execution_count": 14,
   "id": "60fa07ad-e4dd-4c77-b62a-84901dc3dc54",
   "metadata": {},
   "outputs": [
    {
     "data": {
      "text/html": [
       "<div>\n",
       "<style scoped>\n",
       "    .dataframe tbody tr th:only-of-type {\n",
       "        vertical-align: middle;\n",
       "    }\n",
       "\n",
       "    .dataframe tbody tr th {\n",
       "        vertical-align: top;\n",
       "    }\n",
       "\n",
       "    .dataframe thead th {\n",
       "        text-align: right;\n",
       "    }\n",
       "</style>\n",
       "<table border=\"1\" class=\"dataframe\">\n",
       "  <thead>\n",
       "    <tr style=\"text-align: right;\">\n",
       "      <th></th>\n",
       "      <th>LAT</th>\n",
       "      <th>LONG</th>\n",
       "      <th>DEPTH</th>\n",
       "      <th>MAGNITUDE</th>\n",
       "    </tr>\n",
       "  </thead>\n",
       "  <tbody>\n",
       "    <tr>\n",
       "      <th>count</th>\n",
       "      <td>285118.000000</td>\n",
       "      <td>285118.000000</td>\n",
       "      <td>285118.000000</td>\n",
       "      <td>285118.000000</td>\n",
       "    </tr>\n",
       "    <tr>\n",
       "      <th>mean</th>\n",
       "      <td>38.182137</td>\n",
       "      <td>22.778953</td>\n",
       "      <td>15.506183</td>\n",
       "      <td>2.122211</td>\n",
       "    </tr>\n",
       "    <tr>\n",
       "      <th>std</th>\n",
       "      <td>1.265518</td>\n",
       "      <td>1.740812</td>\n",
       "      <td>11.670270</td>\n",
       "      <td>0.816765</td>\n",
       "    </tr>\n",
       "    <tr>\n",
       "      <th>min</th>\n",
       "      <td>34.704900</td>\n",
       "      <td>19.290000</td>\n",
       "      <td>0.000000</td>\n",
       "      <td>0.000000</td>\n",
       "    </tr>\n",
       "    <tr>\n",
       "      <th>25%</th>\n",
       "      <td>37.770000</td>\n",
       "      <td>21.620000</td>\n",
       "      <td>9.000000</td>\n",
       "      <td>1.500000</td>\n",
       "    </tr>\n",
       "    <tr>\n",
       "      <th>50%</th>\n",
       "      <td>38.320000</td>\n",
       "      <td>22.310000</td>\n",
       "      <td>13.000000</td>\n",
       "      <td>2.000000</td>\n",
       "    </tr>\n",
       "    <tr>\n",
       "      <th>75%</th>\n",
       "      <td>38.800000</td>\n",
       "      <td>23.670000</td>\n",
       "      <td>18.000000</td>\n",
       "      <td>2.800000</td>\n",
       "    </tr>\n",
       "    <tr>\n",
       "      <th>max</th>\n",
       "      <td>41.550000</td>\n",
       "      <td>29.710000</td>\n",
       "      <td>244.000000</td>\n",
       "      <td>6.700000</td>\n",
       "    </tr>\n",
       "  </tbody>\n",
       "</table>\n",
       "</div>"
      ],
      "text/plain": [
       "                 LAT           LONG          DEPTH      MAGNITUDE\n",
       "count  285118.000000  285118.000000  285118.000000  285118.000000\n",
       "mean       38.182137      22.778953      15.506183       2.122211\n",
       "std         1.265518       1.740812      11.670270       0.816765\n",
       "min        34.704900      19.290000       0.000000       0.000000\n",
       "25%        37.770000      21.620000       9.000000       1.500000\n",
       "50%        38.320000      22.310000      13.000000       2.000000\n",
       "75%        38.800000      23.670000      18.000000       2.800000\n",
       "max        41.550000      29.710000     244.000000       6.700000"
      ]
     },
     "execution_count": 14,
     "metadata": {},
     "output_type": "execute_result"
    }
   ],
   "source": [
    "# Calculate some statistical data\n",
    "df.describe()"
   ]
  },
  {
   "cell_type": "code",
   "execution_count": 7,
   "id": "83845983-b650-473b-aea2-11bea9460b08",
   "metadata": {},
   "outputs": [
    {
     "data": {
      "text/plain": [
       "DATETIME     0\n",
       "LAT          0\n",
       "LONG         0\n",
       "DEPTH        0\n",
       "MAGNITUDE    0\n",
       "dtype: int64"
      ]
     },
     "execution_count": 7,
     "metadata": {},
     "output_type": "execute_result"
    }
   ],
   "source": [
    "#Check if in any missing values\n",
    "df.isna().sum()"
   ]
  },
  {
   "cell_type": "markdown",
   "id": "4aac7b11-b699-4159-88d8-4e9297a7e408",
   "metadata": {},
   "source": [
    "*There are no missing values.*"
   ]
  },
  {
   "cell_type": "code",
   "execution_count": 8,
   "id": "3e4f3f6d-46a1-4198-b3d2-9559d552020f",
   "metadata": {},
   "outputs": [
    {
     "data": {
      "text/html": [
       "<div>\n",
       "<style scoped>\n",
       "    .dataframe tbody tr th:only-of-type {\n",
       "        vertical-align: middle;\n",
       "    }\n",
       "\n",
       "    .dataframe tbody tr th {\n",
       "        vertical-align: top;\n",
       "    }\n",
       "\n",
       "    .dataframe thead th {\n",
       "        text-align: right;\n",
       "    }\n",
       "</style>\n",
       "<table border=\"1\" class=\"dataframe\">\n",
       "  <thead>\n",
       "    <tr style=\"text-align: right;\">\n",
       "      <th></th>\n",
       "      <th>DATETIME</th>\n",
       "    </tr>\n",
       "  </thead>\n",
       "  <tbody>\n",
       "    <tr>\n",
       "      <th>count</th>\n",
       "      <td>285118</td>\n",
       "    </tr>\n",
       "    <tr>\n",
       "      <th>unique</th>\n",
       "      <td>279041</td>\n",
       "    </tr>\n",
       "    <tr>\n",
       "      <th>top</th>\n",
       "      <td>3/3/2021 13:06</td>\n",
       "    </tr>\n",
       "    <tr>\n",
       "      <th>freq</th>\n",
       "      <td>4</td>\n",
       "    </tr>\n",
       "  </tbody>\n",
       "</table>\n",
       "</div>"
      ],
      "text/plain": [
       "              DATETIME\n",
       "count           285118\n",
       "unique          279041\n",
       "top     3/3/2021 13:06\n",
       "freq                 4"
      ]
     },
     "execution_count": 8,
     "metadata": {},
     "output_type": "execute_result"
    }
   ],
   "source": [
    "df.describe(include=['object'])"
   ]
  },
  {
   "cell_type": "markdown",
   "id": "9c02a737-4e06-45e8-a3a4-be50a6d709ba",
   "metadata": {},
   "source": [
    "## Earthquake Visualization"
   ]
  },
  {
   "cell_type": "code",
   "execution_count": 10,
   "id": "4f409ed8-2905-4c3d-804c-ce9185f86022",
   "metadata": {},
   "outputs": [
    {
     "data": {
      "image/png": "[encoded data removed]",
      "text/plain": [
       "<Figure size 2000x600 with 1 Axes>"
      ]
     },
     "metadata": {},
     "output_type": "display_data"
    }
   ],
   "source": [
    "import matplotlib.pyplot as plt\n",
    "import seaborn as sns\n",
    "\n",
    "plt.figure(figsize=(20,6))\n",
    "ax = sns.histplot(df['MAGNITUDE'],label='Magnitude',color='red')\n",
    "ax.set_title('Distribution Of Earthquake Magnitudes',fontsize=19)\n",
    "ax.set_ylabel('Density',fontsize=16)\n",
    "ax.set_xlabel('Magnitude',fontsize=16)\n",
    "\n",
    "plt.show()"
   ]
  },
  {
   "cell_type": "markdown",
   "id": "1b5fe509-60a3-4618-a212-ae09b5de9532",
   "metadata": {},
   "source": [
    "*At the magnitude distribution of earthquakes, we can see that most of them follow a bimodal distribution centered around 2.1 richter, with the majority of them occurring around 1.6 and 3 Richter.*"
   ]
  },
  {
   "cell_type": "code",
   "execution_count": 42,
   "id": "20e66c3c-2a6c-40bd-9105-6b786ed0c7a6",
   "metadata": {},
   "outputs": [
    {
     "data": {
      "image/png": "[encoded data removed]",
      "text/plain": [
       "<Figure size 2000x600 with 1 Axes>"
      ]
     },
     "metadata": {},
     "output_type": "display_data"
    }
   ],
   "source": [
    "plt.figure(figsize=(20,6))\n",
    "ax = sns.histplot(df['DEPTH'],label='Depth',color='green')\n",
    "ax.set_title('Distribution Of Earthquake Depths',fontsize=19)\n",
    "ax.set_ylabel('Density',fontsize=16)\n",
    "ax.set_xlabel('Depth',fontsize=16)\n",
    "\n",
    "plt.show()"
   ]
  },
  {
   "cell_type": "markdown",
   "id": "71297b42-fa34-42b5-9962-3a9373caefc0",
   "metadata": {},
   "source": [
    "*From the Distribution Of Earthquake Depths graph above, we can determine that an earthquake will most likely occur at a depth of 11-12 kilometres and a magnitude of 1.6 Richter.*"
   ]
  }
 ],
 "metadata": {
  "kernelspec": {
   "display_name": "Python 3 (ipykernel)",
   "language": "python",
   "name": "python3"
  },
  "language_info": {
   "codemirror_mode": {
    "name": "ipython",
    "version": 3
   },
   "file_extension": ".py",
   "mimetype": "text/x-python",
   "name": "python",
   "nbconvert_exporter": "python",
   "pygments_lexer": "ipython3",
   "version": "3.12.4"
  }
 },
 "nbformat": 4,
 "nbformat_minor": 5
}
